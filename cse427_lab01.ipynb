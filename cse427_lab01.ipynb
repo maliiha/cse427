{
  "nbformat": 4,
  "nbformat_minor": 0,
  "metadata": {
    "colab": {
      "provenance": [],
      "authorship_tag": "ABX9TyMNela9V05SF5xyCF/lZx8/",
      "include_colab_link": true
    },
    "kernelspec": {
      "name": "python3",
      "display_name": "Python 3"
    },
    "language_info": {
      "name": "python"
    }
  },
  "cells": [
    {
      "cell_type": "markdown",
      "metadata": {
        "id": "view-in-github",
        "colab_type": "text"
      },
      "source": [
        "<a href=\"https://colab.research.google.com/github/maliiha/cse427/blob/main/cse427_lab01.ipynb\" target=\"_parent\"><img src=\"https://colab.research.google.com/assets/colab-badge.svg\" alt=\"Open In Colab\"/></a>"
      ]
    },
    {
      "cell_type": "code",
      "execution_count": 10,
      "metadata": {
        "id": "NbBn6RLy1vrj"
      },
      "outputs": [],
      "source": [
        "import numpy as np\n",
        "from numpy import random"
      ]
    },
    {
      "cell_type": "markdown",
      "source": [
        "Task:01"
      ],
      "metadata": {
        "id": "eEdxKzvf3xDW"
      }
    },
    {
      "cell_type": "code",
      "source": [
        "a = random.randint(1, 101, size=(20))\n",
        "b = random.randint(1, 101, size=(20))\n",
        "print(\"arr1:\",a)\n",
        "print(\"arr2:\",b)"
      ],
      "metadata": {
        "id": "u4lh2_2n3t0Y",
        "outputId": "b5621cf3-b408-4fe2-b6a7-59df2822b5ea",
        "colab": {
          "base_uri": "https://localhost:8080/"
        }
      },
      "execution_count": 11,
      "outputs": [
        {
          "output_type": "stream",
          "name": "stdout",
          "text": [
            "arr1: [ 86  63  15  95  23  53   5  64  62  12  93 100  14   7  29   1  24   7\n",
            "  26  92]\n",
            "arr2: [19 80 14 30 97 29 56 37 22 94 31 39 28 11 98 90 32  1 38 62]\n"
          ]
        }
      ]
    },
    {
      "cell_type": "markdown",
      "source": [
        "Task:02"
      ],
      "metadata": {
        "id": "Esuvxcw26Lfx"
      }
    },
    {
      "cell_type": "code",
      "source": [
        "a=a.reshape(5,4)\n",
        "b=b.reshape(5,4)\n",
        "print(\"arr3:\",a)\n",
        "print(\"arr4:\",b)"
      ],
      "metadata": {
        "id": "vDWftpSW6Nal",
        "outputId": "4bf2331f-e875-4297-94e7-ba28d7fed206",
        "colab": {
          "base_uri": "https://localhost:8080/"
        }
      },
      "execution_count": 12,
      "outputs": [
        {
          "output_type": "stream",
          "name": "stdout",
          "text": [
            "arr3: [[ 86  63  15  95]\n",
            " [ 23  53   5  64]\n",
            " [ 62  12  93 100]\n",
            " [ 14   7  29   1]\n",
            " [ 24   7  26  92]]\n",
            "arr4: [[19 80 14 30]\n",
            " [97 29 56 37]\n",
            " [22 94 31 39]\n",
            " [28 11 98 90]\n",
            " [32  1 38 62]]\n"
          ]
        }
      ]
    },
    {
      "cell_type": "markdown",
      "source": [
        "Task:03"
      ],
      "metadata": {
        "id": "PeHmVu4W6Qiu"
      }
    },
    {
      "cell_type": "code",
      "source": [
        "num=20\n",
        "print(a*num)\n",
        "print(b*num)"
      ],
      "metadata": {
        "id": "6Ye8Ww4u6UwN",
        "outputId": "fa6e34db-bd95-4815-9ac5-0d4f6e260bf6",
        "colab": {
          "base_uri": "https://localhost:8080/"
        }
      },
      "execution_count": 13,
      "outputs": [
        {
          "output_type": "stream",
          "name": "stdout",
          "text": [
            "[[1720 1260  300 1900]\n",
            " [ 460 1060  100 1280]\n",
            " [1240  240 1860 2000]\n",
            " [ 280  140  580   20]\n",
            " [ 480  140  520 1840]]\n",
            "[[ 380 1600  280  600]\n",
            " [1940  580 1120  740]\n",
            " [ 440 1880  620  780]\n",
            " [ 560  220 1960 1800]\n",
            " [ 640   20  760 1240]]\n"
          ]
        }
      ]
    },
    {
      "cell_type": "markdown",
      "source": [
        "Task:04"
      ],
      "metadata": {
        "id": "1tmy-NjJ6WmL"
      }
    },
    {
      "cell_type": "code",
      "source": [
        "b=b.T\n",
        "c=a@b\n",
        "print(c)"
      ],
      "metadata": {
        "id": "V2EP1hrF6bna",
        "outputId": "7dd50312-3b9f-4ae2-d13c-638dfca07eaa",
        "colab": {
          "base_uri": "https://localhost:8080/"
        }
      },
      "execution_count": 14,
      "outputs": [
        {
          "output_type": "stream",
          "name": "stdout",
          "text": [
            "[[ 9734 14524 11984 13121  9275]\n",
            " [ 6667  6416  8139  7477  4947]\n",
            " [ 6440 15270  9275 19982 11730]\n",
            " [ 1262  3222  1904  3401  1619]\n",
            " [ 4140  7391  5580 11577  7467]]\n"
          ]
        }
      ]
    },
    {
      "cell_type": "markdown",
      "source": [
        "Task:05"
      ],
      "metadata": {
        "id": "jvstS05r6dOD"
      }
    },
    {
      "cell_type": "code",
      "source": [
        "c=c[:,1:3]\n",
        "print(c)\n",
        "print(c[:])"
      ],
      "metadata": {
        "id": "gC2vOe0y6fqX",
        "outputId": "5f2a1325-9da4-4927-c825-d2852b265c85",
        "colab": {
          "base_uri": "https://localhost:8080/"
        }
      },
      "execution_count": 15,
      "outputs": [
        {
          "output_type": "stream",
          "name": "stdout",
          "text": [
            "[[14524 11984]\n",
            " [ 6416  8139]\n",
            " [15270  9275]\n",
            " [ 3222  1904]\n",
            " [ 7391  5580]]\n",
            "[[14524 11984]\n",
            " [ 6416  8139]\n",
            " [15270  9275]\n",
            " [ 3222  1904]\n",
            " [ 7391  5580]]\n"
          ]
        }
      ]
    },
    {
      "cell_type": "markdown",
      "source": [
        "Task:06"
      ],
      "metadata": {
        "id": "cHwyX8-V6jn2"
      }
    },
    {
      "cell_type": "code",
      "source": [
        "c_max=np.amax(c)\n",
        "print(\"max:\",c_max)\n",
        "print(\"index of the max value:\",np.argmax(c))"
      ],
      "metadata": {
        "id": "Tbnvo6_Y6iYj",
        "outputId": "c54397b8-a315-442b-e0a5-515e1150e5e8",
        "colab": {
          "base_uri": "https://localhost:8080/"
        }
      },
      "execution_count": 16,
      "outputs": [
        {
          "output_type": "stream",
          "name": "stdout",
          "text": [
            "max: 15270\n",
            "index of the max value: 4\n"
          ]
        }
      ]
    },
    {
      "cell_type": "markdown",
      "source": [
        "Task:07"
      ],
      "metadata": {
        "id": "iGoWTzh76rKd"
      }
    },
    {
      "cell_type": "code",
      "source": [
        "c_1d=c.flatten()\n",
        "print(\"1D array:\",c_1d)"
      ],
      "metadata": {
        "id": "a5QGjoL66tbC",
        "outputId": "d7864d3f-518a-4da4-84ec-dd91c223461b",
        "colab": {
          "base_uri": "https://localhost:8080/"
        }
      },
      "execution_count": 17,
      "outputs": [
        {
          "output_type": "stream",
          "name": "stdout",
          "text": [
            "1D array: [14524 11984  6416  8139 15270  9275  3222  1904  7391  5580]\n"
          ]
        }
      ]
    },
    {
      "cell_type": "code",
      "source": [
        "import pandas as pd"
      ],
      "metadata": {
        "id": "-pZjeQSq60gi"
      },
      "execution_count": 18,
      "outputs": []
    },
    {
      "cell_type": "code",
      "source": [
        "file = pd.read_csv(\"/content/lab_01_file.csv\")"
      ],
      "metadata": {
        "id": "Xdoi7LnT8R5T"
      },
      "execution_count": 19,
      "outputs": []
    },
    {
      "cell_type": "code",
      "source": [
        "file.head()"
      ],
      "metadata": {
        "id": "7-CAeCJX8e_V",
        "outputId": "28ea929b-1f8a-4ecc-8d58-2a99abf352d8",
        "colab": {
          "base_uri": "https://localhost:8080/",
          "height": 206
        }
      },
      "execution_count": 20,
      "outputs": [
        {
          "output_type": "execute_result",
          "data": {
            "text/plain": [
              "   Student_ID  Physics  Chemistry  Math  Bilogy\n",
              "0           1     63.0         37  85.0    94.0\n",
              "1           2     52.0         63  34.0    24.0\n",
              "2           3     51.0         25   2.0     7.0\n",
              "3           4     44.0          2   5.0    22.0\n",
              "4           5     50.0         13   1.0    12.0"
            ],
            "text/html": [
              "\n",
              "  <div id=\"df-f07b182e-c780-413f-a453-ece48cbdf4d4\" class=\"colab-df-container\">\n",
              "    <div>\n",
              "<style scoped>\n",
              "    .dataframe tbody tr th:only-of-type {\n",
              "        vertical-align: middle;\n",
              "    }\n",
              "\n",
              "    .dataframe tbody tr th {\n",
              "        vertical-align: top;\n",
              "    }\n",
              "\n",
              "    .dataframe thead th {\n",
              "        text-align: right;\n",
              "    }\n",
              "</style>\n",
              "<table border=\"1\" class=\"dataframe\">\n",
              "  <thead>\n",
              "    <tr style=\"text-align: right;\">\n",
              "      <th></th>\n",
              "      <th>Student_ID</th>\n",
              "      <th>Physics</th>\n",
              "      <th>Chemistry</th>\n",
              "      <th>Math</th>\n",
              "      <th>Bilogy</th>\n",
              "    </tr>\n",
              "  </thead>\n",
              "  <tbody>\n",
              "    <tr>\n",
              "      <th>0</th>\n",
              "      <td>1</td>\n",
              "      <td>63.0</td>\n",
              "      <td>37</td>\n",
              "      <td>85.0</td>\n",
              "      <td>94.0</td>\n",
              "    </tr>\n",
              "    <tr>\n",
              "      <th>1</th>\n",
              "      <td>2</td>\n",
              "      <td>52.0</td>\n",
              "      <td>63</td>\n",
              "      <td>34.0</td>\n",
              "      <td>24.0</td>\n",
              "    </tr>\n",
              "    <tr>\n",
              "      <th>2</th>\n",
              "      <td>3</td>\n",
              "      <td>51.0</td>\n",
              "      <td>25</td>\n",
              "      <td>2.0</td>\n",
              "      <td>7.0</td>\n",
              "    </tr>\n",
              "    <tr>\n",
              "      <th>3</th>\n",
              "      <td>4</td>\n",
              "      <td>44.0</td>\n",
              "      <td>2</td>\n",
              "      <td>5.0</td>\n",
              "      <td>22.0</td>\n",
              "    </tr>\n",
              "    <tr>\n",
              "      <th>4</th>\n",
              "      <td>5</td>\n",
              "      <td>50.0</td>\n",
              "      <td>13</td>\n",
              "      <td>1.0</td>\n",
              "      <td>12.0</td>\n",
              "    </tr>\n",
              "  </tbody>\n",
              "</table>\n",
              "</div>\n",
              "    <div class=\"colab-df-buttons\">\n",
              "\n",
              "  <div class=\"colab-df-container\">\n",
              "    <button class=\"colab-df-convert\" onclick=\"convertToInteractive('df-f07b182e-c780-413f-a453-ece48cbdf4d4')\"\n",
              "            title=\"Convert this dataframe to an interactive table.\"\n",
              "            style=\"display:none;\">\n",
              "\n",
              "  <svg xmlns=\"http://www.w3.org/2000/svg\" height=\"24px\" viewBox=\"0 -960 960 960\">\n",
              "    <path d=\"M120-120v-720h720v720H120Zm60-500h600v-160H180v160Zm220 220h160v-160H400v160Zm0 220h160v-160H400v160ZM180-400h160v-160H180v160Zm440 0h160v-160H620v160ZM180-180h160v-160H180v160Zm440 0h160v-160H620v160Z\"/>\n",
              "  </svg>\n",
              "    </button>\n",
              "\n",
              "  <style>\n",
              "    .colab-df-container {\n",
              "      display:flex;\n",
              "      gap: 12px;\n",
              "    }\n",
              "\n",
              "    .colab-df-convert {\n",
              "      background-color: #E8F0FE;\n",
              "      border: none;\n",
              "      border-radius: 50%;\n",
              "      cursor: pointer;\n",
              "      display: none;\n",
              "      fill: #1967D2;\n",
              "      height: 32px;\n",
              "      padding: 0 0 0 0;\n",
              "      width: 32px;\n",
              "    }\n",
              "\n",
              "    .colab-df-convert:hover {\n",
              "      background-color: #E2EBFA;\n",
              "      box-shadow: 0px 1px 2px rgba(60, 64, 67, 0.3), 0px 1px 3px 1px rgba(60, 64, 67, 0.15);\n",
              "      fill: #174EA6;\n",
              "    }\n",
              "\n",
              "    .colab-df-buttons div {\n",
              "      margin-bottom: 4px;\n",
              "    }\n",
              "\n",
              "    [theme=dark] .colab-df-convert {\n",
              "      background-color: #3B4455;\n",
              "      fill: #D2E3FC;\n",
              "    }\n",
              "\n",
              "    [theme=dark] .colab-df-convert:hover {\n",
              "      background-color: #434B5C;\n",
              "      box-shadow: 0px 1px 3px 1px rgba(0, 0, 0, 0.15);\n",
              "      filter: drop-shadow(0px 1px 2px rgba(0, 0, 0, 0.3));\n",
              "      fill: #FFFFFF;\n",
              "    }\n",
              "  </style>\n",
              "\n",
              "    <script>\n",
              "      const buttonEl =\n",
              "        document.querySelector('#df-f07b182e-c780-413f-a453-ece48cbdf4d4 button.colab-df-convert');\n",
              "      buttonEl.style.display =\n",
              "        google.colab.kernel.accessAllowed ? 'block' : 'none';\n",
              "\n",
              "      async function convertToInteractive(key) {\n",
              "        const element = document.querySelector('#df-f07b182e-c780-413f-a453-ece48cbdf4d4');\n",
              "        const dataTable =\n",
              "          await google.colab.kernel.invokeFunction('convertToInteractive',\n",
              "                                                    [key], {});\n",
              "        if (!dataTable) return;\n",
              "\n",
              "        const docLinkHtml = 'Like what you see? Visit the ' +\n",
              "          '<a target=\"_blank\" href=https://colab.research.google.com/notebooks/data_table.ipynb>data table notebook</a>'\n",
              "          + ' to learn more about interactive tables.';\n",
              "        element.innerHTML = '';\n",
              "        dataTable['output_type'] = 'display_data';\n",
              "        await google.colab.output.renderOutput(dataTable, element);\n",
              "        const docLink = document.createElement('div');\n",
              "        docLink.innerHTML = docLinkHtml;\n",
              "        element.appendChild(docLink);\n",
              "      }\n",
              "    </script>\n",
              "  </div>\n",
              "\n",
              "\n",
              "<div id=\"df-5d41e590-f167-4425-8a2f-d5abb7fa2ea0\">\n",
              "  <button class=\"colab-df-quickchart\" onclick=\"quickchart('df-5d41e590-f167-4425-8a2f-d5abb7fa2ea0')\"\n",
              "            title=\"Suggest charts\"\n",
              "            style=\"display:none;\">\n",
              "\n",
              "<svg xmlns=\"http://www.w3.org/2000/svg\" height=\"24px\"viewBox=\"0 0 24 24\"\n",
              "     width=\"24px\">\n",
              "    <g>\n",
              "        <path d=\"M19 3H5c-1.1 0-2 .9-2 2v14c0 1.1.9 2 2 2h14c1.1 0 2-.9 2-2V5c0-1.1-.9-2-2-2zM9 17H7v-7h2v7zm4 0h-2V7h2v10zm4 0h-2v-4h2v4z\"/>\n",
              "    </g>\n",
              "</svg>\n",
              "  </button>\n",
              "\n",
              "<style>\n",
              "  .colab-df-quickchart {\n",
              "      --bg-color: #E8F0FE;\n",
              "      --fill-color: #1967D2;\n",
              "      --hover-bg-color: #E2EBFA;\n",
              "      --hover-fill-color: #174EA6;\n",
              "      --disabled-fill-color: #AAA;\n",
              "      --disabled-bg-color: #DDD;\n",
              "  }\n",
              "\n",
              "  [theme=dark] .colab-df-quickchart {\n",
              "      --bg-color: #3B4455;\n",
              "      --fill-color: #D2E3FC;\n",
              "      --hover-bg-color: #434B5C;\n",
              "      --hover-fill-color: #FFFFFF;\n",
              "      --disabled-bg-color: #3B4455;\n",
              "      --disabled-fill-color: #666;\n",
              "  }\n",
              "\n",
              "  .colab-df-quickchart {\n",
              "    background-color: var(--bg-color);\n",
              "    border: none;\n",
              "    border-radius: 50%;\n",
              "    cursor: pointer;\n",
              "    display: none;\n",
              "    fill: var(--fill-color);\n",
              "    height: 32px;\n",
              "    padding: 0;\n",
              "    width: 32px;\n",
              "  }\n",
              "\n",
              "  .colab-df-quickchart:hover {\n",
              "    background-color: var(--hover-bg-color);\n",
              "    box-shadow: 0 1px 2px rgba(60, 64, 67, 0.3), 0 1px 3px 1px rgba(60, 64, 67, 0.15);\n",
              "    fill: var(--button-hover-fill-color);\n",
              "  }\n",
              "\n",
              "  .colab-df-quickchart-complete:disabled,\n",
              "  .colab-df-quickchart-complete:disabled:hover {\n",
              "    background-color: var(--disabled-bg-color);\n",
              "    fill: var(--disabled-fill-color);\n",
              "    box-shadow: none;\n",
              "  }\n",
              "\n",
              "  .colab-df-spinner {\n",
              "    border: 2px solid var(--fill-color);\n",
              "    border-color: transparent;\n",
              "    border-bottom-color: var(--fill-color);\n",
              "    animation:\n",
              "      spin 1s steps(1) infinite;\n",
              "  }\n",
              "\n",
              "  @keyframes spin {\n",
              "    0% {\n",
              "      border-color: transparent;\n",
              "      border-bottom-color: var(--fill-color);\n",
              "      border-left-color: var(--fill-color);\n",
              "    }\n",
              "    20% {\n",
              "      border-color: transparent;\n",
              "      border-left-color: var(--fill-color);\n",
              "      border-top-color: var(--fill-color);\n",
              "    }\n",
              "    30% {\n",
              "      border-color: transparent;\n",
              "      border-left-color: var(--fill-color);\n",
              "      border-top-color: var(--fill-color);\n",
              "      border-right-color: var(--fill-color);\n",
              "    }\n",
              "    40% {\n",
              "      border-color: transparent;\n",
              "      border-right-color: var(--fill-color);\n",
              "      border-top-color: var(--fill-color);\n",
              "    }\n",
              "    60% {\n",
              "      border-color: transparent;\n",
              "      border-right-color: var(--fill-color);\n",
              "    }\n",
              "    80% {\n",
              "      border-color: transparent;\n",
              "      border-right-color: var(--fill-color);\n",
              "      border-bottom-color: var(--fill-color);\n",
              "    }\n",
              "    90% {\n",
              "      border-color: transparent;\n",
              "      border-bottom-color: var(--fill-color);\n",
              "    }\n",
              "  }\n",
              "</style>\n",
              "\n",
              "  <script>\n",
              "    async function quickchart(key) {\n",
              "      const quickchartButtonEl =\n",
              "        document.querySelector('#' + key + ' button');\n",
              "      quickchartButtonEl.disabled = true;  // To prevent multiple clicks.\n",
              "      quickchartButtonEl.classList.add('colab-df-spinner');\n",
              "      try {\n",
              "        const charts = await google.colab.kernel.invokeFunction(\n",
              "            'suggestCharts', [key], {});\n",
              "      } catch (error) {\n",
              "        console.error('Error during call to suggestCharts:', error);\n",
              "      }\n",
              "      quickchartButtonEl.classList.remove('colab-df-spinner');\n",
              "      quickchartButtonEl.classList.add('colab-df-quickchart-complete');\n",
              "    }\n",
              "    (() => {\n",
              "      let quickchartButtonEl =\n",
              "        document.querySelector('#df-5d41e590-f167-4425-8a2f-d5abb7fa2ea0 button');\n",
              "      quickchartButtonEl.style.display =\n",
              "        google.colab.kernel.accessAllowed ? 'block' : 'none';\n",
              "    })();\n",
              "  </script>\n",
              "</div>\n",
              "    </div>\n",
              "  </div>\n"
            ],
            "application/vnd.google.colaboratory.intrinsic+json": {
              "type": "dataframe",
              "variable_name": "file",
              "summary": "{\n  \"name\": \"file\",\n  \"rows\": 20,\n  \"fields\": [\n    {\n      \"column\": \"Student_ID\",\n      \"properties\": {\n        \"dtype\": \"number\",\n        \"std\": 5,\n        \"min\": 1,\n        \"max\": 20,\n        \"num_unique_values\": 20,\n        \"samples\": [\n          1,\n          18,\n          16\n        ],\n        \"semantic_type\": \"\",\n        \"description\": \"\"\n      }\n    },\n    {\n      \"column\": \"Physics\",\n      \"properties\": {\n        \"dtype\": \"number\",\n        \"std\": 24.127656140820502,\n        \"min\": 9.0,\n        \"max\": 92.0,\n        \"num_unique_values\": 17,\n        \"samples\": [\n          63.0,\n          52.0,\n          65.0\n        ],\n        \"semantic_type\": \"\",\n        \"description\": \"\"\n      }\n    },\n    {\n      \"column\": \"Chemistry\",\n      \"properties\": {\n        \"dtype\": \"number\",\n        \"std\": 25,\n        \"min\": 2,\n        \"max\": 98,\n        \"num_unique_values\": 19,\n        \"samples\": [\n          37,\n          38,\n          36\n        ],\n        \"semantic_type\": \"\",\n        \"description\": \"\"\n      }\n    },\n    {\n      \"column\": \"Math\",\n      \"properties\": {\n        \"dtype\": \"number\",\n        \"std\": 31.912513168536666,\n        \"min\": 1.0,\n        \"max\": 94.0,\n        \"num_unique_values\": 17,\n        \"samples\": [\n          85.0,\n          34.0,\n          26.0\n        ],\n        \"semantic_type\": \"\",\n        \"description\": \"\"\n      }\n    },\n    {\n      \"column\": \"Bilogy\",\n      \"properties\": {\n        \"dtype\": \"number\",\n        \"std\": 30.99150987303662,\n        \"min\": 2.0,\n        \"max\": 94.0,\n        \"num_unique_values\": 17,\n        \"samples\": [\n          94.0,\n          24.0,\n          2.0\n        ],\n        \"semantic_type\": \"\",\n        \"description\": \"\"\n      }\n    }\n  ]\n}"
            }
          },
          "metadata": {},
          "execution_count": 20
        }
      ]
    },
    {
      "cell_type": "code",
      "source": [
        "print(file.describe())"
      ],
      "metadata": {
        "id": "GubHqLLX8hoU",
        "outputId": "bca42c69-3f5f-4865-bd6c-3cd93325f99e",
        "colab": {
          "base_uri": "https://localhost:8080/"
        }
      },
      "execution_count": 21,
      "outputs": [
        {
          "output_type": "stream",
          "name": "stdout",
          "text": [
            "       Student_ID    Physics  Chemistry       Math     Bilogy\n",
            "count    20.00000  18.000000  20.000000  18.000000  19.000000\n",
            "mean     10.50000  47.555556  40.450000  41.944444  34.842105\n",
            "std       5.91608  24.127656  25.750779  31.912513  30.991510\n",
            "min       1.00000   9.000000   2.000000   1.000000   2.000000\n",
            "25%       5.75000  23.750000  24.500000  14.000000   9.000000\n",
            "50%      10.50000  50.500000  36.500000  35.000000  28.000000\n",
            "75%      15.25000  64.500000  55.500000  73.750000  45.500000\n",
            "max      20.00000  92.000000  98.000000  94.000000  94.000000\n"
          ]
        }
      ]
    },
    {
      "cell_type": "code",
      "source": [
        "print(file.isnull().sum())"
      ],
      "metadata": {
        "id": "IfLJCrjn8hwe",
        "outputId": "67d291a7-3cea-48ae-b54e-75c95dfe52d0",
        "colab": {
          "base_uri": "https://localhost:8080/"
        }
      },
      "execution_count": 22,
      "outputs": [
        {
          "output_type": "stream",
          "name": "stdout",
          "text": [
            "Student_ID    0\n",
            "Physics       2\n",
            "Chemistry     0\n",
            "Math          2\n",
            "Bilogy        1\n",
            "dtype: int64\n"
          ]
        }
      ]
    },
    {
      "cell_type": "code",
      "source": [
        "file_mean = file.mean()\n",
        "file.fillna(file_mean, inplace = True)\n",
        "file"
      ],
      "metadata": {
        "id": "z9aHySXB8h0a",
        "outputId": "1053e303-4f83-4067-fd64-061d96f3164e",
        "colab": {
          "base_uri": "https://localhost:8080/",
          "height": 676
        }
      },
      "execution_count": 23,
      "outputs": [
        {
          "output_type": "execute_result",
          "data": {
            "text/plain": [
              "    Student_ID    Physics  Chemistry       Math     Bilogy\n",
              "0            1  63.000000         37  85.000000  94.000000\n",
              "1            2  52.000000         63  34.000000  24.000000\n",
              "2            3  51.000000         25   2.000000   7.000000\n",
              "3            4  44.000000          2   5.000000  22.000000\n",
              "4            5  50.000000         13   1.000000  12.000000\n",
              "5            6  47.555556         38  26.000000   2.000000\n",
              "6            7  65.000000         42  45.000000   4.000000\n",
              "7            8  63.000000         72  41.944444  46.000000\n",
              "8            9  18.000000         23  38.000000  44.000000\n",
              "9           10   9.000000          8  10.000000  59.000000\n",
              "10          11  19.000000         98   4.000000   4.000000\n",
              "11          12  92.000000         36  33.000000  34.842105\n",
              "12          13  47.555556         27  74.000000  34.000000\n",
              "13          14  26.000000         18  33.000000  94.000000\n",
              "14          15  17.000000         30  73.000000  28.000000\n",
              "15          16  70.000000         53  94.000000  45.000000\n",
              "16          17  72.000000         25  41.944444  93.000000\n",
              "17          18  46.000000         45  36.000000   6.000000\n",
              "18          19  76.000000         81  75.000000  11.000000\n",
              "19          20  23.000000         73  87.000000  33.000000"
            ],
            "text/html": [
              "\n",
              "  <div id=\"df-e3a4f2ba-28f5-4b88-b37d-2d1fa64d1502\" class=\"colab-df-container\">\n",
              "    <div>\n",
              "<style scoped>\n",
              "    .dataframe tbody tr th:only-of-type {\n",
              "        vertical-align: middle;\n",
              "    }\n",
              "\n",
              "    .dataframe tbody tr th {\n",
              "        vertical-align: top;\n",
              "    }\n",
              "\n",
              "    .dataframe thead th {\n",
              "        text-align: right;\n",
              "    }\n",
              "</style>\n",
              "<table border=\"1\" class=\"dataframe\">\n",
              "  <thead>\n",
              "    <tr style=\"text-align: right;\">\n",
              "      <th></th>\n",
              "      <th>Student_ID</th>\n",
              "      <th>Physics</th>\n",
              "      <th>Chemistry</th>\n",
              "      <th>Math</th>\n",
              "      <th>Bilogy</th>\n",
              "    </tr>\n",
              "  </thead>\n",
              "  <tbody>\n",
              "    <tr>\n",
              "      <th>0</th>\n",
              "      <td>1</td>\n",
              "      <td>63.000000</td>\n",
              "      <td>37</td>\n",
              "      <td>85.000000</td>\n",
              "      <td>94.000000</td>\n",
              "    </tr>\n",
              "    <tr>\n",
              "      <th>1</th>\n",
              "      <td>2</td>\n",
              "      <td>52.000000</td>\n",
              "      <td>63</td>\n",
              "      <td>34.000000</td>\n",
              "      <td>24.000000</td>\n",
              "    </tr>\n",
              "    <tr>\n",
              "      <th>2</th>\n",
              "      <td>3</td>\n",
              "      <td>51.000000</td>\n",
              "      <td>25</td>\n",
              "      <td>2.000000</td>\n",
              "      <td>7.000000</td>\n",
              "    </tr>\n",
              "    <tr>\n",
              "      <th>3</th>\n",
              "      <td>4</td>\n",
              "      <td>44.000000</td>\n",
              "      <td>2</td>\n",
              "      <td>5.000000</td>\n",
              "      <td>22.000000</td>\n",
              "    </tr>\n",
              "    <tr>\n",
              "      <th>4</th>\n",
              "      <td>5</td>\n",
              "      <td>50.000000</td>\n",
              "      <td>13</td>\n",
              "      <td>1.000000</td>\n",
              "      <td>12.000000</td>\n",
              "    </tr>\n",
              "    <tr>\n",
              "      <th>5</th>\n",
              "      <td>6</td>\n",
              "      <td>47.555556</td>\n",
              "      <td>38</td>\n",
              "      <td>26.000000</td>\n",
              "      <td>2.000000</td>\n",
              "    </tr>\n",
              "    <tr>\n",
              "      <th>6</th>\n",
              "      <td>7</td>\n",
              "      <td>65.000000</td>\n",
              "      <td>42</td>\n",
              "      <td>45.000000</td>\n",
              "      <td>4.000000</td>\n",
              "    </tr>\n",
              "    <tr>\n",
              "      <th>7</th>\n",
              "      <td>8</td>\n",
              "      <td>63.000000</td>\n",
              "      <td>72</td>\n",
              "      <td>41.944444</td>\n",
              "      <td>46.000000</td>\n",
              "    </tr>\n",
              "    <tr>\n",
              "      <th>8</th>\n",
              "      <td>9</td>\n",
              "      <td>18.000000</td>\n",
              "      <td>23</td>\n",
              "      <td>38.000000</td>\n",
              "      <td>44.000000</td>\n",
              "    </tr>\n",
              "    <tr>\n",
              "      <th>9</th>\n",
              "      <td>10</td>\n",
              "      <td>9.000000</td>\n",
              "      <td>8</td>\n",
              "      <td>10.000000</td>\n",
              "      <td>59.000000</td>\n",
              "    </tr>\n",
              "    <tr>\n",
              "      <th>10</th>\n",
              "      <td>11</td>\n",
              "      <td>19.000000</td>\n",
              "      <td>98</td>\n",
              "      <td>4.000000</td>\n",
              "      <td>4.000000</td>\n",
              "    </tr>\n",
              "    <tr>\n",
              "      <th>11</th>\n",
              "      <td>12</td>\n",
              "      <td>92.000000</td>\n",
              "      <td>36</td>\n",
              "      <td>33.000000</td>\n",
              "      <td>34.842105</td>\n",
              "    </tr>\n",
              "    <tr>\n",
              "      <th>12</th>\n",
              "      <td>13</td>\n",
              "      <td>47.555556</td>\n",
              "      <td>27</td>\n",
              "      <td>74.000000</td>\n",
              "      <td>34.000000</td>\n",
              "    </tr>\n",
              "    <tr>\n",
              "      <th>13</th>\n",
              "      <td>14</td>\n",
              "      <td>26.000000</td>\n",
              "      <td>18</td>\n",
              "      <td>33.000000</td>\n",
              "      <td>94.000000</td>\n",
              "    </tr>\n",
              "    <tr>\n",
              "      <th>14</th>\n",
              "      <td>15</td>\n",
              "      <td>17.000000</td>\n",
              "      <td>30</td>\n",
              "      <td>73.000000</td>\n",
              "      <td>28.000000</td>\n",
              "    </tr>\n",
              "    <tr>\n",
              "      <th>15</th>\n",
              "      <td>16</td>\n",
              "      <td>70.000000</td>\n",
              "      <td>53</td>\n",
              "      <td>94.000000</td>\n",
              "      <td>45.000000</td>\n",
              "    </tr>\n",
              "    <tr>\n",
              "      <th>16</th>\n",
              "      <td>17</td>\n",
              "      <td>72.000000</td>\n",
              "      <td>25</td>\n",
              "      <td>41.944444</td>\n",
              "      <td>93.000000</td>\n",
              "    </tr>\n",
              "    <tr>\n",
              "      <th>17</th>\n",
              "      <td>18</td>\n",
              "      <td>46.000000</td>\n",
              "      <td>45</td>\n",
              "      <td>36.000000</td>\n",
              "      <td>6.000000</td>\n",
              "    </tr>\n",
              "    <tr>\n",
              "      <th>18</th>\n",
              "      <td>19</td>\n",
              "      <td>76.000000</td>\n",
              "      <td>81</td>\n",
              "      <td>75.000000</td>\n",
              "      <td>11.000000</td>\n",
              "    </tr>\n",
              "    <tr>\n",
              "      <th>19</th>\n",
              "      <td>20</td>\n",
              "      <td>23.000000</td>\n",
              "      <td>73</td>\n",
              "      <td>87.000000</td>\n",
              "      <td>33.000000</td>\n",
              "    </tr>\n",
              "  </tbody>\n",
              "</table>\n",
              "</div>\n",
              "    <div class=\"colab-df-buttons\">\n",
              "\n",
              "  <div class=\"colab-df-container\">\n",
              "    <button class=\"colab-df-convert\" onclick=\"convertToInteractive('df-e3a4f2ba-28f5-4b88-b37d-2d1fa64d1502')\"\n",
              "            title=\"Convert this dataframe to an interactive table.\"\n",
              "            style=\"display:none;\">\n",
              "\n",
              "  <svg xmlns=\"http://www.w3.org/2000/svg\" height=\"24px\" viewBox=\"0 -960 960 960\">\n",
              "    <path d=\"M120-120v-720h720v720H120Zm60-500h600v-160H180v160Zm220 220h160v-160H400v160Zm0 220h160v-160H400v160ZM180-400h160v-160H180v160Zm440 0h160v-160H620v160ZM180-180h160v-160H180v160Zm440 0h160v-160H620v160Z\"/>\n",
              "  </svg>\n",
              "    </button>\n",
              "\n",
              "  <style>\n",
              "    .colab-df-container {\n",
              "      display:flex;\n",
              "      gap: 12px;\n",
              "    }\n",
              "\n",
              "    .colab-df-convert {\n",
              "      background-color: #E8F0FE;\n",
              "      border: none;\n",
              "      border-radius: 50%;\n",
              "      cursor: pointer;\n",
              "      display: none;\n",
              "      fill: #1967D2;\n",
              "      height: 32px;\n",
              "      padding: 0 0 0 0;\n",
              "      width: 32px;\n",
              "    }\n",
              "\n",
              "    .colab-df-convert:hover {\n",
              "      background-color: #E2EBFA;\n",
              "      box-shadow: 0px 1px 2px rgba(60, 64, 67, 0.3), 0px 1px 3px 1px rgba(60, 64, 67, 0.15);\n",
              "      fill: #174EA6;\n",
              "    }\n",
              "\n",
              "    .colab-df-buttons div {\n",
              "      margin-bottom: 4px;\n",
              "    }\n",
              "\n",
              "    [theme=dark] .colab-df-convert {\n",
              "      background-color: #3B4455;\n",
              "      fill: #D2E3FC;\n",
              "    }\n",
              "\n",
              "    [theme=dark] .colab-df-convert:hover {\n",
              "      background-color: #434B5C;\n",
              "      box-shadow: 0px 1px 3px 1px rgba(0, 0, 0, 0.15);\n",
              "      filter: drop-shadow(0px 1px 2px rgba(0, 0, 0, 0.3));\n",
              "      fill: #FFFFFF;\n",
              "    }\n",
              "  </style>\n",
              "\n",
              "    <script>\n",
              "      const buttonEl =\n",
              "        document.querySelector('#df-e3a4f2ba-28f5-4b88-b37d-2d1fa64d1502 button.colab-df-convert');\n",
              "      buttonEl.style.display =\n",
              "        google.colab.kernel.accessAllowed ? 'block' : 'none';\n",
              "\n",
              "      async function convertToInteractive(key) {\n",
              "        const element = document.querySelector('#df-e3a4f2ba-28f5-4b88-b37d-2d1fa64d1502');\n",
              "        const dataTable =\n",
              "          await google.colab.kernel.invokeFunction('convertToInteractive',\n",
              "                                                    [key], {});\n",
              "        if (!dataTable) return;\n",
              "\n",
              "        const docLinkHtml = 'Like what you see? Visit the ' +\n",
              "          '<a target=\"_blank\" href=https://colab.research.google.com/notebooks/data_table.ipynb>data table notebook</a>'\n",
              "          + ' to learn more about interactive tables.';\n",
              "        element.innerHTML = '';\n",
              "        dataTable['output_type'] = 'display_data';\n",
              "        await google.colab.output.renderOutput(dataTable, element);\n",
              "        const docLink = document.createElement('div');\n",
              "        docLink.innerHTML = docLinkHtml;\n",
              "        element.appendChild(docLink);\n",
              "      }\n",
              "    </script>\n",
              "  </div>\n",
              "\n",
              "\n",
              "<div id=\"df-8617dfeb-cb2a-4993-801b-f857643a5e0a\">\n",
              "  <button class=\"colab-df-quickchart\" onclick=\"quickchart('df-8617dfeb-cb2a-4993-801b-f857643a5e0a')\"\n",
              "            title=\"Suggest charts\"\n",
              "            style=\"display:none;\">\n",
              "\n",
              "<svg xmlns=\"http://www.w3.org/2000/svg\" height=\"24px\"viewBox=\"0 0 24 24\"\n",
              "     width=\"24px\">\n",
              "    <g>\n",
              "        <path d=\"M19 3H5c-1.1 0-2 .9-2 2v14c0 1.1.9 2 2 2h14c1.1 0 2-.9 2-2V5c0-1.1-.9-2-2-2zM9 17H7v-7h2v7zm4 0h-2V7h2v10zm4 0h-2v-4h2v4z\"/>\n",
              "    </g>\n",
              "</svg>\n",
              "  </button>\n",
              "\n",
              "<style>\n",
              "  .colab-df-quickchart {\n",
              "      --bg-color: #E8F0FE;\n",
              "      --fill-color: #1967D2;\n",
              "      --hover-bg-color: #E2EBFA;\n",
              "      --hover-fill-color: #174EA6;\n",
              "      --disabled-fill-color: #AAA;\n",
              "      --disabled-bg-color: #DDD;\n",
              "  }\n",
              "\n",
              "  [theme=dark] .colab-df-quickchart {\n",
              "      --bg-color: #3B4455;\n",
              "      --fill-color: #D2E3FC;\n",
              "      --hover-bg-color: #434B5C;\n",
              "      --hover-fill-color: #FFFFFF;\n",
              "      --disabled-bg-color: #3B4455;\n",
              "      --disabled-fill-color: #666;\n",
              "  }\n",
              "\n",
              "  .colab-df-quickchart {\n",
              "    background-color: var(--bg-color);\n",
              "    border: none;\n",
              "    border-radius: 50%;\n",
              "    cursor: pointer;\n",
              "    display: none;\n",
              "    fill: var(--fill-color);\n",
              "    height: 32px;\n",
              "    padding: 0;\n",
              "    width: 32px;\n",
              "  }\n",
              "\n",
              "  .colab-df-quickchart:hover {\n",
              "    background-color: var(--hover-bg-color);\n",
              "    box-shadow: 0 1px 2px rgba(60, 64, 67, 0.3), 0 1px 3px 1px rgba(60, 64, 67, 0.15);\n",
              "    fill: var(--button-hover-fill-color);\n",
              "  }\n",
              "\n",
              "  .colab-df-quickchart-complete:disabled,\n",
              "  .colab-df-quickchart-complete:disabled:hover {\n",
              "    background-color: var(--disabled-bg-color);\n",
              "    fill: var(--disabled-fill-color);\n",
              "    box-shadow: none;\n",
              "  }\n",
              "\n",
              "  .colab-df-spinner {\n",
              "    border: 2px solid var(--fill-color);\n",
              "    border-color: transparent;\n",
              "    border-bottom-color: var(--fill-color);\n",
              "    animation:\n",
              "      spin 1s steps(1) infinite;\n",
              "  }\n",
              "\n",
              "  @keyframes spin {\n",
              "    0% {\n",
              "      border-color: transparent;\n",
              "      border-bottom-color: var(--fill-color);\n",
              "      border-left-color: var(--fill-color);\n",
              "    }\n",
              "    20% {\n",
              "      border-color: transparent;\n",
              "      border-left-color: var(--fill-color);\n",
              "      border-top-color: var(--fill-color);\n",
              "    }\n",
              "    30% {\n",
              "      border-color: transparent;\n",
              "      border-left-color: var(--fill-color);\n",
              "      border-top-color: var(--fill-color);\n",
              "      border-right-color: var(--fill-color);\n",
              "    }\n",
              "    40% {\n",
              "      border-color: transparent;\n",
              "      border-right-color: var(--fill-color);\n",
              "      border-top-color: var(--fill-color);\n",
              "    }\n",
              "    60% {\n",
              "      border-color: transparent;\n",
              "      border-right-color: var(--fill-color);\n",
              "    }\n",
              "    80% {\n",
              "      border-color: transparent;\n",
              "      border-right-color: var(--fill-color);\n",
              "      border-bottom-color: var(--fill-color);\n",
              "    }\n",
              "    90% {\n",
              "      border-color: transparent;\n",
              "      border-bottom-color: var(--fill-color);\n",
              "    }\n",
              "  }\n",
              "</style>\n",
              "\n",
              "  <script>\n",
              "    async function quickchart(key) {\n",
              "      const quickchartButtonEl =\n",
              "        document.querySelector('#' + key + ' button');\n",
              "      quickchartButtonEl.disabled = true;  // To prevent multiple clicks.\n",
              "      quickchartButtonEl.classList.add('colab-df-spinner');\n",
              "      try {\n",
              "        const charts = await google.colab.kernel.invokeFunction(\n",
              "            'suggestCharts', [key], {});\n",
              "      } catch (error) {\n",
              "        console.error('Error during call to suggestCharts:', error);\n",
              "      }\n",
              "      quickchartButtonEl.classList.remove('colab-df-spinner');\n",
              "      quickchartButtonEl.classList.add('colab-df-quickchart-complete');\n",
              "    }\n",
              "    (() => {\n",
              "      let quickchartButtonEl =\n",
              "        document.querySelector('#df-8617dfeb-cb2a-4993-801b-f857643a5e0a button');\n",
              "      quickchartButtonEl.style.display =\n",
              "        google.colab.kernel.accessAllowed ? 'block' : 'none';\n",
              "    })();\n",
              "  </script>\n",
              "</div>\n",
              "    </div>\n",
              "  </div>\n"
            ],
            "application/vnd.google.colaboratory.intrinsic+json": {
              "type": "dataframe",
              "variable_name": "file",
              "summary": "{\n  \"name\": \"file\",\n  \"rows\": 20,\n  \"fields\": [\n    {\n      \"column\": \"Student_ID\",\n      \"properties\": {\n        \"dtype\": \"number\",\n        \"std\": 5,\n        \"min\": 1,\n        \"max\": 20,\n        \"num_unique_values\": 20,\n        \"samples\": [\n          1,\n          18,\n          16\n        ],\n        \"semantic_type\": \"\",\n        \"description\": \"\"\n      }\n    },\n    {\n      \"column\": \"Physics\",\n      \"properties\": {\n        \"dtype\": \"number\",\n        \"std\": 22.822477890799313,\n        \"min\": 9.0,\n        \"max\": 92.0,\n        \"num_unique_values\": 18,\n        \"samples\": [\n          63.0,\n          52.0,\n          9.0\n        ],\n        \"semantic_type\": \"\",\n        \"description\": \"\"\n      }\n    },\n    {\n      \"column\": \"Chemistry\",\n      \"properties\": {\n        \"dtype\": \"number\",\n        \"std\": 25,\n        \"min\": 2,\n        \"max\": 98,\n        \"num_unique_values\": 19,\n        \"samples\": [\n          37,\n          38,\n          36\n        ],\n        \"semantic_type\": \"\",\n        \"description\": \"\"\n      }\n    },\n    {\n      \"column\": \"Math\",\n      \"properties\": {\n        \"dtype\": \"number\",\n        \"std\": 30.186215435843913,\n        \"min\": 1.0,\n        \"max\": 94.0,\n        \"num_unique_values\": 18,\n        \"samples\": [\n          85.0,\n          34.0,\n          38.0\n        ],\n        \"semantic_type\": \"\",\n        \"description\": \"\"\n      }\n    },\n    {\n      \"column\": \"Bilogy\",\n      \"properties\": {\n        \"dtype\": \"number\",\n        \"std\": 30.16492064755235,\n        \"min\": 2.0,\n        \"max\": 94.0,\n        \"num_unique_values\": 18,\n        \"samples\": [\n          94.0,\n          24.0,\n          44.0\n        ],\n        \"semantic_type\": \"\",\n        \"description\": \"\"\n      }\n    }\n  ]\n}"
            }
          },
          "metadata": {},
          "execution_count": 23
        }
      ]
    },
    {
      "cell_type": "code",
      "source": [
        "print(file[\"Math\"])"
      ],
      "metadata": {
        "id": "yZsb6CHY82S7",
        "outputId": "8e8640c8-b236-4b21-cc8b-e91129904ac8",
        "colab": {
          "base_uri": "https://localhost:8080/"
        }
      },
      "execution_count": 24,
      "outputs": [
        {
          "output_type": "stream",
          "name": "stdout",
          "text": [
            "0     85.000000\n",
            "1     34.000000\n",
            "2      2.000000\n",
            "3      5.000000\n",
            "4      1.000000\n",
            "5     26.000000\n",
            "6     45.000000\n",
            "7     41.944444\n",
            "8     38.000000\n",
            "9     10.000000\n",
            "10     4.000000\n",
            "11    33.000000\n",
            "12    74.000000\n",
            "13    33.000000\n",
            "14    73.000000\n",
            "15    94.000000\n",
            "16    41.944444\n",
            "17    36.000000\n",
            "18    75.000000\n",
            "19    87.000000\n",
            "Name: Math, dtype: float64\n"
          ]
        }
      ]
    },
    {
      "cell_type": "markdown",
      "source": [
        "Task:01"
      ],
      "metadata": {
        "id": "cmUtts9V9Jx2"
      }
    },
    {
      "cell_type": "code",
      "source": [
        "temperature_dhaka = [25,34,21,45,28,6,43,18,7,2]\n",
        "humidity_dhaka = [28, 25,29,20, 26, 50, 19, 29, 52, 55]\n",
        "\n",
        "plt.scatter(temperature_dhaka, humidity_dhaka, marker='*', color='red')\n",
        "plt.xlabel('Temperature (°C)')\n",
        "plt.ylabel('Humidity (%)')\n",
        "plt.title('Temperature vs Humidity in Dhaka')\n",
        "plt.show()"
      ],
      "metadata": {
        "id": "wkHV5s269BdT",
        "outputId": "ccc55b89-5f31-4c0f-94c7-a477f1b6678e",
        "colab": {
          "base_uri": "https://localhost:8080/",
          "height": 472
        }
      },
      "execution_count": 26,
      "outputs": [
        {
          "output_type": "display_data",
          "data": {
            "text/plain": [
              "<Figure size 640x480 with 1 Axes>"
            ],
            "image/png": "[encoded data removed]"
          },
          "metadata": {}
        }
      ]
    },
    {
      "cell_type": "markdown",
      "source": [
        "Task:02"
      ],
      "metadata": {
        "id": "7xUEid989mMR"
      }
    },
    {
      "cell_type": "code",
      "source": [
        "study_hours = [2,3,4,4, 5, 6, 7, 7, 8, 9, 9, 10, 11, 11, 12]\n",
        "marks = [6, 10, 15, 20, 34, 44, 55, 60, 55, 67, 70, 80, 90, 99, 100]\n",
        "\n",
        "plt.figure(figsize=(12, 8))\n",
        "plt.plot(study_hours, marks, marker='o')\n",
        "plt.xlabel('Study Hours')\n",
        "plt.ylabel('Marks')\n",
        "plt.title('Study Hours vs Marks')\n",
        "plt.show()"
      ],
      "metadata": {
        "id": "Uam-c29O9oGe",
        "outputId": "6dd015f7-cdfc-49bb-f1a6-036a318dd4b8",
        "colab": {
          "base_uri": "https://localhost:8080/",
          "height": 718
        }
      },
      "execution_count": 27,
      "outputs": [
        {
          "output_type": "display_data",
          "data": {
            "text/plain": [
              "<Figure size 1200x800 with 1 Axes>"
            ],
            "image/png": "[encoded data removed]"
          },
          "metadata": {}
        }
      ]
    },
    {
      "cell_type": "markdown",
      "source": [
        "Task:03"
      ],
      "metadata": {
        "id": "BZt2Qoed9qcN"
      }
    },
    {
      "cell_type": "code",
      "source": [
        "subjects = ['Maths', 'English', 'Science', 'Physics', 'Computer']\n",
        "marks = [89, 90, 45, 78, 99]\n",
        "\n",
        "plt.barh(subjects, marks)\n",
        "plt.xlabel('Marks')\n",
        "plt.ylabel('Subjects')\n",
        "plt.title('Scores in Each Subject')\n",
        "plt.show()"
      ],
      "metadata": {
        "id": "WJOoL7Ii9sUt",
        "outputId": "e8430219-0876-4934-9829-7e9f7fb49139",
        "colab": {
          "base_uri": "https://localhost:8080/",
          "height": 472
        }
      },
      "execution_count": 28,
      "outputs": [
        {
          "output_type": "display_data",
          "data": {
            "text/plain": [
              "<Figure size 640x480 with 1 Axes>"
            ],
            "image/png": "[encoded data removed]"
          },
          "metadata": {}
        }
      ]
    },
    {
      "cell_type": "markdown",
      "source": [
        "Task:04"
      ],
      "metadata": {
        "id": "ChkKuwE39ua8"
      }
    },
    {
      "cell_type": "code",
      "source": [
        "subjects = ['Maths', 'English', 'Science', 'Physics', 'Computer']\n",
        "marks = [89, 90, 45, 78, 99]\n",
        "\n",
        "plt.bar(subjects, marks, color=['pink', 'cyan', 'gray', 'orange', 'purple'])\n",
        "plt.xlabel('Subjects')\n",
        "plt.ylabel('Marks')\n",
        "plt.title('Scores in Each Subject')\n",
        "plt.show()"
      ],
      "metadata": {
        "id": "piI-IWI-9wGi",
        "outputId": "3fbf76bf-88b5-455b-c279-99881e236ad5",
        "colab": {
          "base_uri": "https://localhost:8080/",
          "height": 472
        }
      },
      "execution_count": 29,
      "outputs": [
        {
          "output_type": "display_data",
          "data": {
            "text/plain": [
              "<Figure size 640x480 with 1 Axes>"
            ],
            "image/png": "[encoded data removed]"
          },
          "metadata": {}
        }
      ]
    },
    {
      "cell_type": "markdown",
      "source": [
        "Task:05"
      ],
      "metadata": {
        "id": "dlxs0nmY9zlP"
      }
    },
    {
      "cell_type": "code",
      "source": [
        "plt.subplot(2,2,1)\n",
        "plt.scatter(temperature_dhaka, humidity_dhaka, marker='*', color='red')\n",
        "plt.xlabel('Temperature (°C)')\n",
        "plt.ylabel('Humidity (%)')\n",
        "plt.title('Temperature vs Humidity in Dhaka')\n",
        "\n",
        "plt.subplot(2,2,2)\n",
        "study_hours = [2,3,4,4, 5, 6, 7, 7, 8, 9, 9, 10, 11, 11, 12]\n",
        "marks = [6, 10, 15, 20, 34, 44, 55, 60, 55, 67, 70, 80, 90, 99, 100]\n",
        "plt.plot(study_hours, marks,marker='o')\n",
        "plt.xlabel('Study Hours')\n",
        "plt.ylabel('Marks')\n",
        "plt.title('Study Hours vs Marks')\n",
        "\n",
        "plt.subplot(2,2,3)\n",
        "subjects = ['Maths', 'English', 'Science', 'Physics', 'Computer']\n",
        "marks = [89, 90, 45, 78, 99]\n",
        "plt.barh(subjects, marks)\n",
        "plt.xlabel('Marks')\n",
        "plt.ylabel('Subjects')\n",
        "plt.title('Scores in Each Subject')\n",
        "\n",
        "plt.subplot(2,2,4)\n",
        "subjects = ['Maths', 'English', 'Science', 'Physics', 'Computer']\n",
        "marks = [89, 90, 45, 78, 99]\n",
        "plt.bar(subjects, marks, color=['red', 'blue', 'green', 'orange', 'purple'])\n",
        "plt.xlabel('Subjects')\n",
        "plt.ylabel('Marks')\n",
        "plt.title('Scores in Each Subject')\n",
        "\n",
        "plt.tight_layout()\n",
        "plt.show()\n"
      ],
      "metadata": {
        "id": "QLveqk1N91_H",
        "outputId": "1b702880-2b86-4479-8e7b-f8dd6f07bcd7",
        "colab": {
          "base_uri": "https://localhost:8080/",
          "height": 486
        }
      },
      "execution_count": 30,
      "outputs": [
        {
          "output_type": "display_data",
          "data": {
            "text/plain": [
              "<Figure size 640x480 with 4 Axes>"
            ],
            "image/png": "[encoded data removed]"
          },
          "metadata": {}
        }
      ]
    }
  ]
}